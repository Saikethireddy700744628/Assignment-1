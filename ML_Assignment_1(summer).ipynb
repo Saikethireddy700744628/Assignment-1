{
  "nbformat": 4,
  "nbformat_minor": 0,
  "metadata": {
    "colab": {
      "provenance": [],
      "authorship_tag": "ABX9TyPIqc9eNKJ/5e3xOBrhq8hh",
      "include_colab_link": true
    },
    "kernelspec": {
      "name": "python3",
      "display_name": "Python 3"
    },
    "language_info": {
      "name": "python"
    }
  },
  "cells": [
    {
      "cell_type": "markdown",
      "metadata": {
        "id": "view-in-github",
        "colab_type": "text"
      },
      "source": [
        "<a href=\"https://colab.research.google.com/github/Saikethireddy700744628/Assignment-1/blob/main/ML_Assignment_1(summer).ipynb\" target=\"_parent\"><img src=\"https://colab.research.google.com/assets/colab-badge.svg\" alt=\"Open In Colab\"/></a>"
      ]
    },
    {
      "cell_type": "code",
      "execution_count": 5,
      "metadata": {
        "colab": {
          "base_uri": "https://localhost:8080/"
        },
        "id": "gMqQrhoDA5Gs",
        "outputId": "cb6f20fb-ee59-468a-8f23-652054df607f"
      },
      "outputs": [
        {
          "output_type": "stream",
          "name": "stdout",
          "text": [
            "1.a Vector:  [ 9 14 12  7 14  5  5  6  3 11 12 17  5  9 12]\n"
          ]
        }
      ],
      "source": [
        "import numpy as npy;\n",
        "vector = npy.random.randint(1, 20, 15)\n",
        "print (\"1.a Vector: \", vector)"
      ]
    },
    {
      "cell_type": "code",
      "source": [
        "\n",
        "reshaped = vector.reshape(3, 5)"
      ],
      "metadata": {
        "id": "Svc-jgmLB6DV"
      },
      "execution_count": 6,
      "outputs": []
    },
    {
      "cell_type": "code",
      "source": [
        "#Print array shape.\n",
        "print (\"1.a.2 Reshaped array shape: \", reshaped.shape)"
      ],
      "metadata": {
        "colab": {
          "base_uri": "https://localhost:8080/"
        },
        "id": "F4_hSipJ7KO-",
        "outputId": "a416e4a8-dc7b-4fa2-b2d5-71c9f7e35261"
      },
      "execution_count": 8,
      "outputs": [
        {
          "output_type": "stream",
          "name": "stdout",
          "text": [
            "1.a.2 Reshaped array shape:  (3, 5)\n"
          ]
        }
      ]
    },
    {
      "cell_type": "code",
      "source": [
        "# 1.a.3 Replace the max in each row by 0.\n",
        "for i in range(reshaped.shape[0]):\n",
        "    reshaped[i, npy.where(reshaped[i] == reshaped[i].max())] = 0\n",
        "print (\"1.a.3 Replaced max in each row by 0: \\n\", reshaped)"
      ],
      "metadata": {
        "colab": {
          "base_uri": "https://localhost:8080/"
        },
        "id": "mmUfPUcn7lDv",
        "outputId": "f5042174-5697-4fac-c7b9-34ac4a5896d0"
      },
      "execution_count": 9,
      "outputs": [
        {
          "output_type": "stream",
          "name": "stdout",
          "text": [
            "1.a.3 Replaced max in each row by 0: \n",
            " [[ 9  0 12  7  0]\n",
            " [ 5  5  6  3  0]\n",
            " [12  0  5  9 12]]\n"
          ]
        }
      ]
    },
    {
      "cell_type": "code",
      "source": [
        "# 1.b compute the eigenvalues and right eigenvectors of a given square array\n",
        "array = npy.random.randint(1, 20, (4, 3), dtype=npy.int32)\n",
        "print (\"1.b Array: \\n\", array)\n",
        "print (\"1.b Array shape: \", array.shape)\n",
        "print (\"1.b Array type: \", type(array))\n",
        "print (\"1.b Array data type: \", array.dtype)"
      ],
      "metadata": {
        "colab": {
          "base_uri": "https://localhost:8080/"
        },
        "id": "vbn-AJky7quz",
        "outputId": "ee78125b-5c83-4b69-a08c-6969db29ae8b"
      },
      "execution_count": 10,
      "outputs": [
        {
          "output_type": "stream",
          "name": "stdout",
          "text": [
            "1.b Array: \n",
            " [[19 17 10]\n",
            " [ 7 14 12]\n",
            " [ 2  9  3]\n",
            " [15 13  6]]\n",
            "1.b Array shape:  (4, 3)\n",
            "1.b Array type:  <class 'numpy.ndarray'>\n",
            "1.b Array data type:  int32\n"
          ]
        }
      ]
    },
    {
      "cell_type": "code",
      "source": [
        "# 1.b\n",
        "newArray = npy.array([[3, -2], [1, 0]])\n",
        "eigenvalues, eigenvectors = npy.linalg.eig(newArray)\n",
        "print (\"1.b Eigenvalues: \\n\", eigenvalues)\n",
        "print (\"1.b Eigenvectors: \\n\", eigenvectors)"
      ],
      "metadata": {
        "colab": {
          "base_uri": "https://localhost:8080/"
        },
        "id": "Mn4TNKWV7vGF",
        "outputId": "99e92b51-069f-457a-a400-ba64af2bb098"
      },
      "execution_count": 11,
      "outputs": [
        {
          "output_type": "stream",
          "name": "stdout",
          "text": [
            "1.b Eigenvalues: \n",
            " [2. 1.]\n",
            "1.b Eigenvectors: \n",
            " [[0.89442719 0.70710678]\n",
            " [0.4472136  0.70710678]]\n"
          ]
        }
      ]
    },
    {
      "cell_type": "code",
      "source": [
        "# 1.c sum of the diagonal element of a given array:\n",
        "oneC = npy.array([[0, 1, 2], [3, 4, 5]])\n",
        "print (\"1.c Array: \\n\", oneC)\n",
        "print (\"1.c Sum of diagonal elements: \", npy.trace(oneC))"
      ],
      "metadata": {
        "colab": {
          "base_uri": "https://localhost:8080/"
        },
        "id": "BGdAcZlL7yd3",
        "outputId": "ef47195c-8e0a-4e0f-c2ec-bc0f9b627573"
      },
      "execution_count": 12,
      "outputs": [
        {
          "output_type": "stream",
          "name": "stdout",
          "text": [
            "1.c Array: \n",
            " [[0 1 2]\n",
            " [3 4 5]]\n",
            "1.c Sum of diagonal elements:  4\n"
          ]
        }
      ]
    },
    {
      "cell_type": "code",
      "source": [
        "# 1.d new shape to an array without changing its data. Reshape 3x2:\n",
        "oneD = npy.arange(1, 7)\n",
        "print (\"1.d Array: \", oneD)"
      ],
      "metadata": {
        "colab": {
          "base_uri": "https://localhost:8080/"
        },
        "id": "BGrx4fHy8AbT",
        "outputId": "e1b760a7-2e69-487f-cd19-a2dc7d1a8534"
      },
      "execution_count": 14,
      "outputs": [
        {
          "output_type": "stream",
          "name": "stdout",
          "text": [
            "1.d Array:  [1 2 3 4 5 6]\n"
          ]
        }
      ]
    },
    {
      "cell_type": "code",
      "source": [
        "# reshape to 3x2\n",
        "oneD = oneD.reshape(3, 2)\n",
        "print (\"1.d Reshaped array 3x2: \\n\", oneD)"
      ],
      "metadata": {
        "colab": {
          "base_uri": "https://localhost:8080/"
        },
        "id": "Zw4tCBiN8I_G",
        "outputId": "320792e9-c5db-4a1d-e3ae-4c610248402e"
      },
      "execution_count": 15,
      "outputs": [
        {
          "output_type": "stream",
          "name": "stdout",
          "text": [
            "1.d Reshaped array 3x2: \n",
            " [[1 2]\n",
            " [3 4]\n",
            " [5 6]]\n"
          ]
        }
      ]
    },
    {
      "cell_type": "code",
      "source": [
        "# reshape to 2x3\n",
        "oneD = oneD.reshape(2, 3)\n",
        "print (\"1.d Reshaped array 2x3: \\n\", oneD)"
      ],
      "metadata": {
        "colab": {
          "base_uri": "https://localhost:8080/"
        },
        "id": "kPRELp8S8M6z",
        "outputId": "c8fa05e1-363c-4e37-eda7-d1e4a921b09d"
      },
      "execution_count": 16,
      "outputs": [
        {
          "output_type": "stream",
          "name": "stdout",
          "text": [
            "1.d Reshaped array 2x3: \n",
            " [[1 2 3]\n",
            " [4 5 6]]\n"
          ]
        }
      ]
    },
    {
      "cell_type": "code",
      "source": [
        "#2\n",
        "import matplotlib.pyplot as plt\n",
        "\n",
        "programmingLanguages = ['Java', 'Python', 'PHP', 'JavaScript', 'C#', 'C++']\n",
        "popularity = [22.2, 17.6, 8.8, 8, 7.7, 6.7]\n",
        "dictionary = dict(zip(programmingLanguages, popularity))\n",
        "dictionary = dict(sorted(dictionary.items(), key=lambda item: item[1], reverse=True))\n",
        "explode = (0.1, 0, 0, 0, 0, 0)\n",
        "plt.pie(dictionary.values(), labels=dictionary.keys(), explode=explode, autopct='%1.1f%%', shadow=True, startangle=135)\n",
        "plt.axis('equal')\n",
        "plt.show()"
      ],
      "metadata": {
        "colab": {
          "base_uri": "https://localhost:8080/",
          "height": 411
        },
        "id": "qvw0BcwP8Ry8",
        "outputId": "4c76e76c-9f7d-4c53-d301-0b84ee3b117f"
      },
      "execution_count": 17,
      "outputs": [
        {
          "output_type": "display_data",
          "data": {
            "text/plain": [
              "<Figure size 640x480 with 1 Axes>"
            ],
            "image/png": "[encoded data removed]"
          },
          "metadata": {}
        }
      ]
    }
  ]
}